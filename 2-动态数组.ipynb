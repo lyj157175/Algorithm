{
 "cells": [
  {
   "cell_type": "markdown",
   "metadata": {},
   "source": [
    "## 动态数组"
   ]
  },
  {
   "cell_type": "code",
   "execution_count": 53,
   "metadata": {},
   "outputs": [],
   "source": [
    "import ctypes\n",
    "\n",
    "class DynamicArray:\n",
    "    \n",
    "    def __init__(self):\n",
    "        self.n = 0\n",
    "        self.capacity = 10   # 默认数组的容量为10\n",
    "        self.arr = self.make_array(self.capacity)  # 构建一个c大小的空数组\n",
    "    \n",
    "    def __len__(self):\n",
    "        return self.n\n",
    "    \n",
    "    def is_empty(self):\n",
    "        return self.n == 0\n",
    "    \n",
    "    # 获得第idx个数据\n",
    "    def getitem(self, idx):\n",
    "        if not 0 <= idx < self.n:\n",
    "            raise ValueError('invalid index')\n",
    "        return self.arr[idx]\n",
    "    \n",
    "    def make_array(self, c):\n",
    "        return (c*ctypes.py_object)()\n",
    "    \n",
    "    # 创建一个大小为c的信数组\n",
    "    def resize(self, c):\n",
    "        new_arr = self.mak_array(c)\n",
    "        for i in range(self.n):\n",
    "            new_arr[i] = self.arr[i]\n",
    "        self.arr = new_arr\n",
    "        self.capacity = c\n",
    "    \n",
    "    def append(self, item):\n",
    "        if self.n == self.capacity:\n",
    "            self.resize(2*self.capacity)\n",
    "        self.arr[self.n] = item\n",
    "        self.n += 1\n",
    "    \n",
    "    def insert(self, position, item):\n",
    "        if self.n == self.capacity:\n",
    "            self.resize(2*self.capacity)\n",
    "        for i in range(self.n, position, -1):\n",
    "            self.arr[i] = self.arr[i-1]\n",
    "        self.arr[position] = item \n",
    "        self.n += 1\n",
    "        \n",
    "    def remove(self, item):\n",
    "        for i in range(self.n):\n",
    "            if self.arr[i] == item:\n",
    "                for j in range(i, self.n-1):\n",
    "                    self.arr[j] == self.arr[j+1]\n",
    "                self.arr[self.n-1] = None\n",
    "                self.n -= 1\n",
    "                return \n",
    "        raise ValueError('not found the value')\n",
    "        \n",
    "    def print(self):\n",
    "        for i in range(self.n):\n",
    "            print(self.arr[i], end=' ')\n",
    "        print()"
   ]
  },
  {
   "cell_type": "code",
   "execution_count": 66,
   "metadata": {},
   "outputs": [
    {
     "name": "stdout",
     "output_type": "stream",
     "text": [
      "1 2 hello Ture \n",
      "1 2 hello \n"
     ]
    }
   ],
   "source": [
    "mylist = DynamicArray()\n",
    "mylist.append(1)\n",
    "mylist.append(2)\n",
    "mylist.append('hello')\n",
    "mylist.append('Ture')\n",
    "mylist.print()\n",
    "mylist.getitem(2)\n",
    "mylist.remove('hello')\n",
    "mylist.print()"
   ]
  },
  {
   "cell_type": "code",
   "execution_count": null,
   "metadata": {},
   "outputs": [],
   "source": []
  },
  {
   "cell_type": "code",
   "execution_count": null,
   "metadata": {},
   "outputs": [],
   "source": []
  }
 ],
 "metadata": {
  "kernelspec": {
   "display_name": "Python 3.7.4 64-bit ('base': conda)",
   "language": "python",
   "name": "python37464bitbasecondac1ed852f726f46e99aa9eda212d43d36"
  },
  "language_info": {
   "codemirror_mode": {
    "name": "ipython",
    "version": 3
   },
   "file_extension": ".py",
   "mimetype": "text/x-python",
   "name": "python",
   "nbconvert_exporter": "python",
   "pygments_lexer": "ipython3",
   "version": "3.7.4"
  }
 },
 "nbformat": 4,
 "nbformat_minor": 2
}
