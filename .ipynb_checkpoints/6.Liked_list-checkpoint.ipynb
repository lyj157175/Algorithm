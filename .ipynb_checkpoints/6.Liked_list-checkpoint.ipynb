{
 "cells": [
  {
   "cell_type": "code",
   "execution_count": 6,
   "metadata": {},
   "outputs": [
    {
     "ename": "SyntaxError",
     "evalue": "unexpected EOF while parsing (<ipython-input-6-8919b408fc99>, line 35)",
     "output_type": "error",
     "traceback": [
      "\u001b[1;36m  File \u001b[1;32m\"<ipython-input-6-8919b408fc99>\"\u001b[1;36m, line \u001b[1;32m35\u001b[0m\n\u001b[1;33m    for i in range(idx):\u001b[0m\n\u001b[1;37m                        ^\u001b[0m\n\u001b[1;31mSyntaxError\u001b[0m\u001b[1;31m:\u001b[0m unexpected EOF while parsing\n"
     ]
    }
   ],
   "source": [
    "class Node:\n",
    "    def __init__(self, value=None, next=None):\n",
    "        self.value = value\n",
    "        self.next = next\n",
    "\n",
    "class LinkedList:\n",
    "    def __init__(self):\n",
    "        self.head = Node()\n",
    "        self.tail = None\n",
    "        self.length = 0\n",
    "    \n",
    "    def peek(self):\n",
    "        if not self.head.next:\n",
    "            raise Empty('LinkedList is empty')\n",
    "        return self.head.next\n",
    "    \n",
    "    def get_first(self):\n",
    "        if not self.head.next:\n",
    "            raise Empty('LinkedList is empty')\n",
    "        return self.head.next\n",
    "    \n",
    "    def get_last(self):\n",
    "        if not self.head.next:\n",
    "            raise Empty('LinkedList is empty')\n",
    "        cur = self.head\n",
    "        while cur.next:\n",
    "            cur = cur.next\n",
    "        return cur\n",
    "    \n",
    "    def get(self, idx):\n",
    "        if idx >= self.length or idx < 0:\n",
    "            raise Outbound('index is out of bound')\n",
    "        if not self.head.next:\n",
    "            raise Empty('LinkedList is empty')\n",
    "        node = self.head\n",
    "        for i in range(idx):\n",
    "            node = node.next\n",
    "        return node"
   ]
  },
  {
   "cell_type": "code",
   "execution_count": null,
   "metadata": {},
   "outputs": [],
   "source": []
  }
 ],
 "metadata": {
  "kernelspec": {
   "display_name": "Python 3.7.4 64-bit ('base': conda)",
   "language": "python",
   "name": "python37464bitbasecondac1ed852f726f46e99aa9eda212d43d36"
  },
  "language_info": {
   "codemirror_mode": {
    "name": "ipython",
    "version": 3
   },
   "file_extension": ".py",
   "mimetype": "text/x-python",
   "name": "python",
   "nbconvert_exporter": "python",
   "pygments_lexer": "ipython3",
   "version": "3.7.4"
  }
 },
 "nbformat": 4,
 "nbformat_minor": 2
}
