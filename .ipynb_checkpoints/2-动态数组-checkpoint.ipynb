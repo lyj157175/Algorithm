{
 "cells": [
  {
   "cell_type": "markdown",
   "metadata": {},
   "source": [
    "## 动态数组"
   ]
  },
  {
   "cell_type": "code",
   "execution_count": 18,
   "metadata": {},
   "outputs": [
    {
     "ename": "IndentationError",
     "evalue": "expected an indented block (<ipython-input-18-6c8a7aba542d>, line 26)",
     "output_type": "error",
     "traceback": [
      "\u001b[1;36m  File \u001b[1;32m\"<ipython-input-18-6c8a7aba542d>\"\u001b[1;36m, line \u001b[1;32m26\u001b[0m\n\u001b[1;33m    self.arr[self.n] = item\u001b[0m\n\u001b[1;37m       ^\u001b[0m\n\u001b[1;31mIndentationError\u001b[0m\u001b[1;31m:\u001b[0m expected an indented block\n"
     ]
    }
   ],
   "source": [
    "class DynamicArray:\n",
    "    def __init__(self):\n",
    "        self.n = 0\n",
    "        self.capacity = 10   # 默认数组的容量为10\n",
    "        self.arr = self.make_array(self.capactity)  # 构建一个c大小的空数组\n",
    "    \n",
    "    def len(self):\n",
    "        return self.n\n",
    "    \n",
    "    def is_empty(self):\n",
    "        return self.n == 0\n",
    "    \n",
    "    # 获得第idx个数据\n",
    "    def getitem(self, idx):\n",
    "        if not 0 <= idx < self.n:\n",
    "            raise ValueError('invalid index')\n",
    "        return self.arr[idx]\n",
    "    \n",
    "    def make_array(self, c):\n",
    "        return (c*ctypes.py_object)()\n",
    "    \n",
    "    def resize(self, c):\n",
    "        pass\n",
    "    \n",
    "    def append(self, item):\n",
    "        if self.n == self.capacity:\n",
    "            self.resize(2*self.capacity)\n",
    "        self.arr[self.n] = item\n",
    "        self.n += 1\n",
    "    \n",
    "    def insert"
   ]
  },
  {
   "cell_type": "code",
   "execution_count": null,
   "metadata": {},
   "outputs": [],
   "source": []
  }
 ],
 "metadata": {
  "kernelspec": {
   "display_name": "Python 3.7.4 64-bit ('base': conda)",
   "language": "python",
   "name": "python37464bitbasecondac1ed852f726f46e99aa9eda212d43d36"
  },
  "language_info": {
   "codemirror_mode": {
    "name": "ipython",
    "version": 3
   },
   "file_extension": ".py",
   "mimetype": "text/x-python",
   "name": "python",
   "nbconvert_exporter": "python",
   "pygments_lexer": "ipython3",
   "version": "3.7.4"
  }
 },
 "nbformat": 4,
 "nbformat_minor": 2
}
