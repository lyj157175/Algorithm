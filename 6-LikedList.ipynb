{
 "cells": [
  {
   "cell_type": "code",
   "execution_count": 12,
   "metadata": {},
   "outputs": [],
   "source": [
    "### LinkedList实现\n",
    "\n",
    "class Node:\n",
    "    def __init__(self, value=None, next=None):\n",
    "        self.value = value\n",
    "        self.next = next\n",
    "\n",
    "class LinkedList:\n",
    "    def __init__(self):\n",
    "        self.head = Node()\n",
    "        self.tail = None\n",
    "        self.length = 0\n",
    "    \n",
    "    def peek(self):\n",
    "        if not self.head.next:\n",
    "            raise Empty('LinkedList is empty')\n",
    "        return self.head.next\n",
    "    \n",
    "    def get_first(self):\n",
    "        if not self.head.next:\n",
    "            raise Empty('LinkedList is empty')\n",
    "        return self.head.next\n",
    "    \n",
    "    def get_last(self):\n",
    "        if not self.head.next:\n",
    "            raise Empty('LinkedList is empty')\n",
    "        cur = self.head\n",
    "        while cur.next:\n",
    "            cur = cur.next\n",
    "        return cur\n",
    "    \n",
    "    def get(self, idx):\n",
    "        if idx >= self.length or idx < 0:\n",
    "            raise Outbound('index is out of bound')\n",
    "        if not self.head.next:\n",
    "            raise Empty('LinkedList is empty')\n",
    "        node = self.head\n",
    "        for i in range(idx):\n",
    "            node = node.next\n",
    "        return node\n",
    "    \n",
    "    def add_first(self, value):\n",
    "        node = Node(value, None)\n",
    "        node.next = self.head.next\n",
    "        self.head.next = node\n",
    "        self.length += 1\n",
    "    \n",
    "    def add_last(self, value):\n",
    "        node = Node(value, None)\n",
    "        cur = self.head\n",
    "        while cur.next:\n",
    "            cur = cur.next\n",
    "        cur.next = node\n",
    "        self.length += 1\n",
    "    \n",
    "    def add(self, index, value):\n",
    "        if index < 0 or index >= self.length:\n",
    "            raise Outbound('index is out of bound')\n",
    "        if not self.head.next:\n",
    "            raise Empty( 'LinkedList is empty' )  \n",
    "        node = Node(value, None)\n",
    "        cur = self.head\n",
    "        for i in range(index):\n",
    "            cur = cur.next \n",
    "        node.next = cur.next\n",
    "        cur.next = node\n",
    "        self.length += 1\n",
    "        \n",
    "    def remove_first(self):\n",
    "        if not self.head.next:\n",
    "            raise Empty( 'LinkedList is empty' )\n",
    "        value = self.head.next\n",
    "        self.head.next = self.head.next.next\n",
    "        self.length -= 1\n",
    "        return value \n",
    "    \n",
    "    def remove_last(self):\n",
    "        if not self.head.next:\n",
    "            raise Empty( 'LinkedList is empty' )\n",
    "        pre = self.head\n",
    "        cur = self.head.next\n",
    "        while cur.next:\n",
    "            pre = cur \n",
    "            cur = cur.next\n",
    "        pre.next = None\n",
    "        self.length -= 1\n",
    "        return cur.value \n",
    "    \n",
    "    def remove(self, index):\n",
    "        if (index < 0 or index >= self.length):\n",
    "            raise Outbound( 'index is out of bound' )\n",
    "        if not self.head.next:\n",
    "            raise Empty( 'LinkedList is empty' )\n",
    "        cur = self.head\n",
    "        for i in range(index):\n",
    "            cur = cur.next\n",
    "        value = cur.next\n",
    "        cur.next = cur.next.next\n",
    "        self -= 1\n",
    "        return value\n",
    "    \n",
    "    def printlist(self):\n",
    "        if not self.head.next:\n",
    "            raise Empty( 'LinkedList is empty' )\n",
    "        node = self.head.next\n",
    "        count = 0\n",
    "        for i in range(self.length):\n",
    "            print(node.value, end=' ')\n",
    "            node = node.next   \n",
    "            count += 1 "
   ]
  },
  {
   "cell_type": "code",
   "execution_count": 13,
   "metadata": {},
   "outputs": [
    {
     "name": "stdout",
     "output_type": "stream",
     "text": [
      "0 1 2 3 4 5 6 7 8 9 "
     ]
    }
   ],
   "source": [
    "l = LinkedList()\n",
    "for i in range(10):\n",
    "    l.add_last(i)\n",
    "l.printlist()"
   ]
  },
  {
   "cell_type": "code",
   "execution_count": null,
   "metadata": {},
   "outputs": [],
   "source": []
  },
  {
   "cell_type": "code",
   "execution_count": 14,
   "metadata": {},
   "outputs": [],
   "source": [
    "# delete a node"
   ]
  },
  {
   "cell_type": "code",
   "execution_count": 18,
   "metadata": {},
   "outputs": [],
   "source": [
    "def delete_node(node):\n",
    "    pringt(node.value)\n",
    "    node.value = node.next.value\n",
    "    node.next = node.next.next"
   ]
  },
  {
   "cell_type": "code",
   "execution_count": null,
   "metadata": {},
   "outputs": [],
   "source": []
  },
  {
   "cell_type": "code",
   "execution_count": 19,
   "metadata": {},
   "outputs": [],
   "source": [
    "# find the middle node(快慢指针)"
   ]
  },
  {
   "cell_type": "code",
   "execution_count": 17,
   "metadata": {},
   "outputs": [],
   "source": [
    "def find_middle(linked_list):\n",
    "    assert linked_list.head is not None and linked_list.next is not None\n",
    "    head = linked_list.head\n",
    "    fast = head\n",
    "    slow = head\n",
    "    while fast is not None and fast.next is not None:\n",
    "        fast = fast.next.next  # 2步\n",
    "        slow = slow.next       # 1步\n",
    "    return slow.value"
   ]
  },
  {
   "cell_type": "code",
   "execution_count": null,
   "metadata": {},
   "outputs": [],
   "source": []
  },
  {
   "cell_type": "code",
   "execution_count": 20,
   "metadata": {},
   "outputs": [],
   "source": [
    "# 确定链表是否有环(快慢指针)"
   ]
  },
  {
   "cell_type": "code",
   "execution_count": 22,
   "metadata": {},
   "outputs": [],
   "source": [
    "def has_cycle(lst):\n",
    "    head = lst.head\n",
    "    if head is None:\n",
    "        return False\n",
    "    \n",
    "    slow = head\n",
    "    fast = head\n",
    "    \n",
    "    while fast is not None and fast.next is not None:\n",
    "        fast = fast.next.next\n",
    "        slow = slow.next\n",
    "        \n",
    "        if slow == fast:\n",
    "            return True\n",
    "    return False"
   ]
  },
  {
   "cell_type": "code",
   "execution_count": null,
   "metadata": {},
   "outputs": [],
   "source": []
  },
  {
   "cell_type": "code",
   "execution_count": 25,
   "metadata": {},
   "outputs": [],
   "source": [
    "####### 给一个带环链表，找到入环节点\n",
    "# https://blog.csdn.net/Herishwater/article/details/96433817\n",
    "# 思路： \n",
    "# 假设从链表头节点到入环点的距离是 D，从入环点到两个指针首次相遇点的距离是 S1，\n",
    "# 从首次相遇点回到入环点的距离是 S2。p 指针和 q 指针首次相遇时，\n",
    "# 各自走的距离为：L(q) = D+S1，L(p) = D+S1+S2+S1。\n",
    "# 由于 p 指针的速度是 q 的 2 倍，所以所走的距离也是 q 的 2 倍，因此：2(D+S1) = D+2S1+S2，即为：D = S2。\n",
    "# 从公式可以看出，从链表头节点到入环点的距离，等于从首次相遇点回到入环点的距离。\n",
    "# 因此我们重新选择两个速度一致的节点，一个从头节点位置出发，另一个从首次相遇点出发，\n",
    "# 那么，它们最终相遇的节点，就是入环点。"
   ]
  },
  {
   "cell_type": "code",
   "execution_count": 26,
   "metadata": {},
   "outputs": [],
   "source": [
    "def find_begin(head):  # 给出头节点\n",
    "    if head is None:\n",
    "        return False\n",
    "    slow = head\n",
    "    fast = head\n",
    "    \n",
    "    while fast is not None and fast.next is not None:\n",
    "        fast = fast.next.next\n",
    "        slow = slow.next\n",
    "        \n",
    "        if slow == fast:    # 表明有环\n",
    "            fast = head     \n",
    "            break\n",
    "    if fast is None or fast.next is None:\n",
    "        return None\n",
    "    \n",
    "    while fast != slow:\n",
    "        fast = fast.next\n",
    "        slow = slow.next\n",
    "    return slow       "
   ]
  },
  {
   "cell_type": "code",
   "execution_count": null,
   "metadata": {},
   "outputs": [],
   "source": []
  },
  {
   "cell_type": "code",
   "execution_count": 27,
   "metadata": {},
   "outputs": [],
   "source": [
    "# 删除单链表倒数第n个节点"
   ]
  },
  {
   "cell_type": "code",
   "execution_count": 30,
   "metadata": {},
   "outputs": [],
   "source": [
    "def remove_nth(lst, n):\n",
    "    assert n < lst.length and n > 0\n",
    "    \n",
    "    fast = lst.head\n",
    "    while n>0:\n",
    "        fast = fast.next\n",
    "        n = n - 1\n",
    "    slow = lst.head\n",
    "    while fast.next is not None:\n",
    "        fast = fast.next\n",
    "        slow = slow.next\n",
    "    result = slow.value \n",
    "    slow.next = slow.next.next\n",
    "    lst.length -= 1\n",
    "    return result "
   ]
  },
  {
   "cell_type": "code",
   "execution_count": null,
   "metadata": {},
   "outputs": [],
   "source": []
  },
  {
   "cell_type": "code",
   "execution_count": 31,
   "metadata": {},
   "outputs": [],
   "source": [
    "# 给定一个链表，返回一个前半部，一个后半部"
   ]
  },
  {
   "cell_type": "code",
   "execution_count": 34,
   "metadata": {},
   "outputs": [],
   "source": [
    "def split(head):\n",
    "    if head is None:\n",
    "        return \n",
    "    \n",
    "    fast = head\n",
    "    slow = head\n",
    "    front_last_node = slow \n",
    "    while fast is not None:\n",
    "        front_last_node = slow \n",
    "        slow = slow.next\n",
    "        fast = fast.next.next if fast.next is not None else None\n",
    "    front_last_node.next = None\n",
    "    front = head\n",
    "    back = slow\n",
    "    return (front, slow)"
   ]
  },
  {
   "cell_type": "code",
   "execution_count": null,
   "metadata": {},
   "outputs": [],
   "source": []
  }
 ],
 "metadata": {
  "kernelspec": {
   "display_name": "Python 3.7.4 64-bit ('base': conda)",
   "language": "python",
   "name": "python37464bitbasecondac1ed852f726f46e99aa9eda212d43d36"
  },
  "language_info": {
   "codemirror_mode": {
    "name": "ipython",
    "version": 3
   },
   "file_extension": ".py",
   "mimetype": "text/x-python",
   "name": "python",
   "nbconvert_exporter": "python",
   "pygments_lexer": "ipython3",
   "version": "3.7.4"
  }
 },
 "nbformat": 4,
 "nbformat_minor": 2
}
