{
 "cells": [
  {
   "cell_type": "code",
   "execution_count": 19,
   "metadata": {},
   "outputs": [],
   "source": [
    "import sys\n",
    "class v:\n",
    "    def __init__(self, node):\n",
    "        self.id = node\n",
    "        self.adj = {}\n",
    "    \n",
    "    def add_neibor(self, neibor, cost):\n",
    "        self.adj[neibor] = cost\n",
    "        \n",
    "    def get_connections(self):\n",
    "        return self.adj.keys() \n",
    "    \n",
    "    def get_id(self):\n",
    "        return self.id\n",
    "    \n",
    "    def get_weight(self, nbr):\n",
    "        return self.adj[nbr]\n",
    "        \n",
    "        \n",
    "class Graph:\n",
    "    def __init__(self, directed=False):\n",
    "        self.v_dict = {} # k:node, v:vertex\n",
    "        self.num_v = 0\n",
    "        self.directed = False\n",
    "    \n",
    "    def idDirected(self):\n",
    "        return self.directed\n",
    "    \n",
    "    def add_v(self, node):\n",
    "        self.num_v += 1\n",
    "        newv = v(node)\n",
    "        self.v_dict[node] = newv\n",
    "        return newv\n",
    "    \n",
    "    def get_v(self, n):\n",
    "        if n in self.v_dict:\n",
    "            return self.v_dict[n]\n",
    "        else:\n",
    "            return None\n",
    "    \n",
    "    def add_e(self, frm, to, cost=0):\n",
    "        if frm not in self.v_dict:\n",
    "            self.add_v(frm)\n",
    "        if to not in self.v_dict:\n",
    "            self.add_v(to)\n",
    "        self.v_dict[frm].add_neibor(self.v_dict[to], cost)\n",
    "        if not self.directed:\n",
    "            self.v_dict[to].add_neibor(self.v_dict[frm], cost)\n",
    "    \n",
    "    def get_es(self):\n",
    "        edges = []\n",
    "        for k, newv in self.v_dict.items():\n",
    "            for nbr in newv.get_connections():\n",
    "                cur_id = newv.get_id()\n",
    "                nbr_id = nbr.get_id()\n",
    "                edges.append((cur_id, nbr_id, newv.get_weight(nbr)))\n",
    "        return edges\n",
    "        "
   ]
  },
  {
   "cell_type": "code",
   "execution_count": 20,
   "metadata": {},
   "outputs": [
    {
     "data": {
      "text/plain": [
       "[('a', 'b', 1),\n",
       " ('a', 'c', 1),\n",
       " ('a', 'e', 1),\n",
       " ('b', 'a', 1),\n",
       " ('b', 'd', 1),\n",
       " ('b', 'e', 1),\n",
       " ('c', 'a', 1),\n",
       " ('c', 'd', 1),\n",
       " ('c', 'e', 1),\n",
       " ('d', 'b', 1),\n",
       " ('d', 'c', 1),\n",
       " ('d', 'e', 1),\n",
       " ('e', 'b', 1),\n",
       " ('e', 'c', 1),\n",
       " ('e', 'd', 1),\n",
       " ('e', 'a', 1)]"
      ]
     },
     "execution_count": 20,
     "metadata": {},
     "output_type": "execute_result"
    }
   ],
   "source": [
    "G = Graph(True)\n",
    "G.add_v('a')\n",
    "G.add_v('b')\n",
    "G.add_v('c')\n",
    "G.add_v('d')\n",
    "G.add_v('e')\n",
    "G.add_v('f')\n",
    "\n",
    "G.add_e('a', 'b', 1)  \n",
    "G.add_e('a', 'c', 1)\n",
    "G.add_e('b', 'd', 1)\n",
    "G.add_e('b', 'e', 1)\n",
    "G.add_e('c', 'd', 1)\n",
    "G.add_e('c', 'e', 1)\n",
    "G.add_e('d', 'e', 1)\n",
    "G.add_e('e', 'a', 1)\n",
    "\n",
    "G.get_es()"
   ]
  },
  {
   "cell_type": "code",
   "execution_count": null,
   "metadata": {},
   "outputs": [],
   "source": []
  },
  {
   "cell_type": "code",
   "execution_count": null,
   "metadata": {},
   "outputs": [],
   "source": []
  }
 ],
 "metadata": {
  "kernelspec": {
   "display_name": "Python 3.7.4 64-bit ('base': conda)",
   "language": "python",
   "name": "python37464bitbasecondac1ed852f726f46e99aa9eda212d43d36"
  },
  "language_info": {
   "codemirror_mode": {
    "name": "ipython",
    "version": 3
   },
   "file_extension": ".py",
   "mimetype": "text/x-python",
   "name": "python",
   "nbconvert_exporter": "python",
   "pygments_lexer": "ipython3",
   "version": "3.7.4"
  }
 },
 "nbformat": 4,
 "nbformat_minor": 2
}
